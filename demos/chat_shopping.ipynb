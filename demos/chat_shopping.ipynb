{
 "cells": [
  {
   "cell_type": "code",
   "execution_count": 1,
   "id": "ffe3542f",
   "metadata": {},
   "outputs": [
    {
     "name": "stdout",
     "output_type": "stream",
     "text": [
      "Looking in indexes: https://bytedpypi.byted.org/simple/\n",
      "Requirement already satisfied: openai in /Users/bytedance/miniconda3/envs/py38/lib/python3.8/site-packages (0.27.0)\n",
      "Requirement already satisfied: requests>=2.20 in /Users/bytedance/miniconda3/envs/py38/lib/python3.8/site-packages (from openai) (2.26.0)\n",
      "Requirement already satisfied: tqdm in /Users/bytedance/miniconda3/envs/py38/lib/python3.8/site-packages (from openai) (4.62.0)\n",
      "Requirement already satisfied: aiohttp in /Users/bytedance/miniconda3/envs/py38/lib/python3.8/site-packages (from openai) (3.8.4)\n",
      "Requirement already satisfied: idna<4,>=2.5 in /Users/bytedance/miniconda3/envs/py38/lib/python3.8/site-packages (from requests>=2.20->openai) (3.2)\n",
      "Requirement already satisfied: urllib3<1.27,>=1.21.1 in /Users/bytedance/miniconda3/envs/py38/lib/python3.8/site-packages (from requests>=2.20->openai) (1.26.6)\n",
      "Requirement already satisfied: charset-normalizer~=2.0.0 in /Users/bytedance/miniconda3/envs/py38/lib/python3.8/site-packages (from requests>=2.20->openai) (2.0.4)\n",
      "Requirement already satisfied: certifi>=2017.4.17 in /Users/bytedance/miniconda3/envs/py38/lib/python3.8/site-packages (from requests>=2.20->openai) (2021.5.30)\n",
      "Requirement already satisfied: attrs>=17.3.0 in /Users/bytedance/miniconda3/envs/py38/lib/python3.8/site-packages (from aiohttp->openai) (22.2.0)\n",
      "Requirement already satisfied: frozenlist>=1.1.1 in /Users/bytedance/miniconda3/envs/py38/lib/python3.8/site-packages (from aiohttp->openai) (1.3.3)\n",
      "Requirement already satisfied: async-timeout<5.0,>=4.0.0a3 in /Users/bytedance/miniconda3/envs/py38/lib/python3.8/site-packages (from aiohttp->openai) (4.0.2)\n",
      "Requirement already satisfied: multidict<7.0,>=4.5 in /Users/bytedance/miniconda3/envs/py38/lib/python3.8/site-packages (from aiohttp->openai) (6.0.4)\n",
      "Requirement already satisfied: aiosignal>=1.1.2 in /Users/bytedance/miniconda3/envs/py38/lib/python3.8/site-packages (from aiohttp->openai) (1.3.1)\n",
      "Requirement already satisfied: yarl<2.0,>=1.0 in /Users/bytedance/miniconda3/envs/py38/lib/python3.8/site-packages (from aiohttp->openai) (1.8.2)\n"
     ]
    }
   ],
   "source": [
    "# 初始化环境\n",
    "! pip install openai"
   ]
  },
  {
   "cell_type": "code",
   "execution_count": 64,
   "id": "d8d22223",
   "metadata": {},
   "outputs": [
    {
     "name": "stdout",
     "output_type": "stream",
     "text": [
      "好的，根据您的需求，我为您推荐以下几款性价比较高的手机：小米10、荣耀30、realme X50 Pro，它们都是目前市场上性价比比较高的手机。商品诉求关键词：性价比、手机。\n"
     ]
    }
   ],
   "source": [
    "import openai\n",
    "\n",
    "import openai\n",
    "OPENAI_KEY = \"sk-\"\n",
    "openai.api_key = OPENAI_KEY\n",
    "\n",
    "system_content = \"作为一个导购机器人，根据用户反馈推荐商品，同时把用户历史的需求分析后记录下来。按照以下格式进行回复: [回复内容], 商品诉求关键词:[需求关键词列表]\"\n",
    "text = \"我换个新的手机，给我推荐几个性价比高的手机\"\n",
    "\n",
    "history_list = [\n",
    "     {\"role\": \"system\", \"content\": system_content},\n",
    "     {\"role\": \"user\", \"content\": text}\n",
    "]\n",
    "\n",
    "response = openai.ChatCompletion.create(\n",
    "            model=\"gpt-3.5-turbo\",\n",
    "            messages=history_list,\n",
    "            temperature=0)\n",
    "\n",
    "response_text = response[\"choices\"][0][\"message\"][\"content\"]\n",
    "\n",
    "print(response_text)\n",
    "\n",
    "history_list.append({\"role\": \"assistant\", \"content\": response_text})"
   ]
  },
  {
   "cell_type": "code",
   "execution_count": 65,
   "id": "c4d72517",
   "metadata": {},
   "outputs": [
    {
     "data": {
      "text/plain": [
       "[{'role': 'system',\n",
       "  'content': '作为一个导购机器人，根据用户反馈推荐商品，同时把用户历史的需求分析后记录下来。按照以下格式进行回复: [回复内容], 商品诉求关键词:[需求关键词列表]'},\n",
       " {'role': 'user', 'content': '我换个新的手机，给我推荐几个性价比高的手机'},\n",
       " {'role': 'assistant',\n",
       "  'content': '好的，根据您的需求，我为您推荐以下几款性价比较高的手机：小米10、荣耀30、realme X50 Pro，它们都是目前市场上性价比比较高的手机。商品诉求关键词：性价比、手机。'}]"
      ]
     },
     "execution_count": 65,
     "metadata": {},
     "output_type": "execute_result"
    }
   ],
   "source": [
    "history_list"
   ]
  },
  {
   "cell_type": "code",
   "execution_count": 66,
   "id": "39438b67",
   "metadata": {},
   "outputs": [],
   "source": [
    "history_list.append({\"role\": \"user\", \"content\": \"我想要个android的手机，拍照好一点的\"})"
   ]
  },
  {
   "cell_type": "code",
   "execution_count": 67,
   "id": "1c114f81",
   "metadata": {},
   "outputs": [
    {
     "name": "stdout",
     "output_type": "stream",
     "text": [
      "好的，根据您的需求，我为您推荐以下几款拍照效果比较好的Android手机：三星Galaxy S21 Ultra、华为Mate 40 Pro、小米11 Ultra，它们都是目前市场上拍照效果比较好的Android手机。商品诉求关键词：Android手机、拍照。\n"
     ]
    }
   ],
   "source": [
    "response = openai.ChatCompletion.create(\n",
    "            model=\"gpt-3.5-turbo\",\n",
    "            messages=history_list,\n",
    "            temperature=0)\n",
    "\n",
    "response_text = response[\"choices\"][0][\"message\"][\"content\"]\n",
    "\n",
    "print(response_text)\n",
    "\n",
    "history_list.append({\"role\": \"assistant\", \"content\": response_text})"
   ]
  },
  {
   "cell_type": "code",
   "execution_count": 68,
   "id": "be1f9942",
   "metadata": {},
   "outputs": [],
   "source": [
    "history_list.append({\"role\": \"user\", \"content\": \"还是中国产的好一点\"})"
   ]
  },
  {
   "cell_type": "code",
   "execution_count": 69,
   "id": "d7486348",
   "metadata": {},
   "outputs": [
    {
     "name": "stdout",
     "output_type": "stream",
     "text": [
      "中国手机品牌在近年来的发展中已经取得了很大的进步，目前市场上有很多性价比高、品质优良的中国产手机。根据您的需求，我为您推荐以下几款中国产手机：小米11 Ultra、华为Mate 40 Pro、一加9 Pro，它们都是目前市场上性价比比较高、品质优良的中国产手机。商品诉求关键词：中国产手机、性价比、品质。\n"
     ]
    }
   ],
   "source": [
    "response = openai.ChatCompletion.create(\n",
    "            model=\"gpt-3.5-turbo\",\n",
    "            messages=history_list,\n",
    "            temperature=0)\n",
    "\n",
    "response_text = response[\"choices\"][0][\"message\"][\"content\"]\n",
    "\n",
    "print(response_text)\n",
    "\n",
    "history_list.append({\"role\": \"assistant\", \"content\": response_text})"
   ]
  },
  {
   "cell_type": "code",
   "execution_count": 70,
   "id": "9770f3d5",
   "metadata": {},
   "outputs": [
    {
     "name": "stdout",
     "output_type": "stream",
     "text": [
      "如果您平时也会打原神，那么我再为您推荐几款适合游戏的中国产手机：红魔6、黑鲨4 Pro、iQOO 7，它们都是目前市场上性能比较强、适合游戏的中国产手机。同时它们也都具有较高的性价比和品质保证。商品诉求关键词：中国产手机、游戏、性能、性价比、品质。\n"
     ]
    }
   ],
   "source": [
    "history_list.append({\"role\": \"user\", \"content\": \"还有其他的吗？我平时也会打原神\"})\n",
    "\n",
    "response = openai.ChatCompletion.create(\n",
    "            model=\"gpt-3.5-turbo\",\n",
    "            messages=history_list,\n",
    "            temperature=0)\n",
    "\n",
    "response_text = response[\"choices\"][0][\"message\"][\"content\"]\n",
    "\n",
    "print(response_text)\n",
    "\n",
    "history_list.append({\"role\": \"assistant\", \"content\": response_text})"
   ]
  },
  {
   "cell_type": "code",
   "execution_count": 71,
   "id": "e53e9931",
   "metadata": {},
   "outputs": [
    {
     "name": "stdout",
     "output_type": "stream",
     "text": [
      "---------------------------------------\n",
      "system: 作为一个导购机器人，根据用户反馈推荐商品，同时把用户历史的需求分析后记录下来。按照以下格式进行回复: [回复内容], 商品诉求关键词:[需求关键词列表]\n",
      "---------------------------------------\n",
      "user: 我换个新的手机，给我推荐几个性价比高的手机\n",
      "---------------------------------------\n",
      "assistant: 好的，根据您的需求，我为您推荐以下几款性价比较高的手机：小米10、荣耀30、realme X50 Pro，它们都是目前市场上性价比比较高的手机。商品诉求关键词：性价比、手机。\n",
      "---------------------------------------\n",
      "user: 我想要个android的手机，拍照好一点的\n",
      "---------------------------------------\n",
      "assistant: 好的，根据您的需求，我为您推荐以下几款拍照效果比较好的Android手机：三星Galaxy S21 Ultra、华为Mate 40 Pro、小米11 Ultra，它们都是目前市场上拍照效果比较好的Android手机。商品诉求关键词：Android手机、拍照。\n",
      "---------------------------------------\n",
      "user: 还是中国产的好一点\n",
      "---------------------------------------\n",
      "assistant: 中国手机品牌在近年来的发展中已经取得了很大的进步，目前市场上有很多性价比高、品质优良的中国产手机。根据您的需求，我为您推荐以下几款中国产手机：小米11 Ultra、华为Mate 40 Pro、一加9 Pro，它们都是目前市场上性价比比较高、品质优良的中国产手机。商品诉求关键词：中国产手机、性价比、品质。\n",
      "---------------------------------------\n",
      "user: 还有其他的吗？我平时也会打原神\n",
      "---------------------------------------\n",
      "assistant: 如果您平时也会打原神，那么我再为您推荐几款适合游戏的中国产手机：红魔6、黑鲨4 Pro、iQOO 7，它们都是目前市场上性能比较强、适合游戏的中国产手机。同时它们也都具有较高的性价比和品质保证。商品诉求关键词：中国产手机、游戏、性能、性价比、品质。\n"
     ]
    }
   ],
   "source": [
    "for item in history_list:\n",
    "    print(\"---------------------------------------\")\n",
    "    print(f\"\"\"{item[\"role\"]}: {item[\"content\"]}\"\"\")"
   ]
  },
  {
   "cell_type": "code",
   "execution_count": null,
   "id": "08622715",
   "metadata": {},
   "outputs": [],
   "source": []
  },
  {
   "cell_type": "code",
   "execution_count": null,
   "id": "cedd5f9a",
   "metadata": {},
   "outputs": [],
   "source": []
  }
 ],
 "metadata": {
  "kernelspec": {
   "display_name": "Python 3 (ipykernel)",
   "language": "python",
   "name": "python3"
  },
  "language_info": {
   "codemirror_mode": {
    "name": "ipython",
    "version": 3
   },
   "file_extension": ".py",
   "mimetype": "text/x-python",
   "name": "python",
   "nbconvert_exporter": "python",
   "pygments_lexer": "ipython3",
   "version": "3.8.10"
  }
 },
 "nbformat": 4,
 "nbformat_minor": 5
}
